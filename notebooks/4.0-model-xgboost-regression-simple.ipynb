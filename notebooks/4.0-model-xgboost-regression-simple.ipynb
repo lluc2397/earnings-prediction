{
 "cells": [
  {
   "cell_type": "code",
   "execution_count": 1,
   "metadata": {},
   "outputs": [],
   "source": [
    "import pandas as pd\n",
    "import numpy as np\n",
    "from pathlib import Path"
   ]
  },
  {
   "cell_type": "code",
   "execution_count": 2,
   "metadata": {},
   "outputs": [],
   "source": [
    "ROOT_DIR = Path().resolve(strict=True).parent\n",
    "DATA_DIR = f\"{ROOT_DIR}/data/\"\n",
    "\n",
    "df = pd.read_csv(f\"{DATA_DIR}/interim/new_features.csv\", index_col=0)\n",
    "# short_df = pd.read_csv(f\"{DATA_DIR}/interim/new_features_drops.csv\", index_col=0)"
   ]
  },
  {
   "cell_type": "code",
   "execution_count": 3,
   "metadata": {},
   "outputs": [
    {
     "data": {
      "text/plain": [
       "Index(['Ticker', 'Fiscal Year', 'Revenue', 'Cost of Revenue', 'Net Income',\n",
       "       'fcf', 'owners_earnings', 'roa', 'roe', 'roc', 'current_ratio',\n",
       "       'quick_ratio', 'gross_margin', 'net_income_margin', 'fcf_margin',\n",
       "       'owners_earnings_to_net_income', 'rd_to_net_income',\n",
       "       'capex_to_net_income', 'net_income_growth_rate'],\n",
       "      dtype='object')"
      ]
     },
     "execution_count": 3,
     "metadata": {},
     "output_type": "execute_result"
    }
   ],
   "source": [
    "df.columns"
   ]
  },
  {
   "cell_type": "code",
   "execution_count": 4,
   "metadata": {},
   "outputs": [],
   "source": [
    "df.loc[df['Ticker'] == df['Ticker'].shift(periods=-1), 'next_year_revenue'] = df['Revenue'].shift(periods=-1)"
   ]
  },
  {
   "cell_type": "code",
   "execution_count": 5,
   "metadata": {},
   "outputs": [],
   "source": [
    "train_df = df[(df[\"Fiscal Year\"] <= 2017) & (df[\"Fiscal Year\"] >= 2010)].dropna(subset = ['next_year_revenue'])\n",
    "\n",
    "train_df = train_df.dropna(subset = ['next_year_revenue'])"
   ]
  },
  {
   "cell_type": "code",
   "execution_count": 6,
   "metadata": {},
   "outputs": [],
   "source": [
    "test_df = df[(df[\"Fiscal Year\"] <= 2019) & (df[\"Fiscal Year\"] >= 2018)]\n",
    "test_df = test_df.dropna(subset = ['next_year_revenue'])"
   ]
  },
  {
   "cell_type": "code",
   "execution_count": 7,
   "metadata": {},
   "outputs": [],
   "source": [
    "train_df = train_df.drop(columns=[\"Fiscal Year\", \"Ticker\"])\n",
    "test_df = test_df.drop(columns=[\"Fiscal Year\", \"Ticker\"])"
   ]
  },
  {
   "cell_type": "code",
   "execution_count": 8,
   "metadata": {},
   "outputs": [],
   "source": [
    "y_train=train_df['next_year_revenue']\n",
    "X_train=train_df.drop(['next_year_revenue'],axis=1)\n",
    "\n",
    "y_test=test_df['next_year_revenue']\n",
    "X_test=test_df.drop(['next_year_revenue'],axis=1)"
   ]
  },
  {
   "cell_type": "code",
   "execution_count": 9,
   "metadata": {},
   "outputs": [],
   "source": [
    "import xgboost"
   ]
  },
  {
   "cell_type": "code",
   "execution_count": 10,
   "metadata": {},
   "outputs": [
    {
     "data": {
      "text/html": [
       "<style>#sk-container-id-1 {color: black;background-color: white;}#sk-container-id-1 pre{padding: 0;}#sk-container-id-1 div.sk-toggleable {background-color: white;}#sk-container-id-1 label.sk-toggleable__label {cursor: pointer;display: block;width: 100%;margin-bottom: 0;padding: 0.3em;box-sizing: border-box;text-align: center;}#sk-container-id-1 label.sk-toggleable__label-arrow:before {content: \"▸\";float: left;margin-right: 0.25em;color: #696969;}#sk-container-id-1 label.sk-toggleable__label-arrow:hover:before {color: black;}#sk-container-id-1 div.sk-estimator:hover label.sk-toggleable__label-arrow:before {color: black;}#sk-container-id-1 div.sk-toggleable__content {max-height: 0;max-width: 0;overflow: hidden;text-align: left;background-color: #f0f8ff;}#sk-container-id-1 div.sk-toggleable__content pre {margin: 0.2em;color: black;border-radius: 0.25em;background-color: #f0f8ff;}#sk-container-id-1 input.sk-toggleable__control:checked~div.sk-toggleable__content {max-height: 200px;max-width: 100%;overflow: auto;}#sk-container-id-1 input.sk-toggleable__control:checked~label.sk-toggleable__label-arrow:before {content: \"▾\";}#sk-container-id-1 div.sk-estimator input.sk-toggleable__control:checked~label.sk-toggleable__label {background-color: #d4ebff;}#sk-container-id-1 div.sk-label input.sk-toggleable__control:checked~label.sk-toggleable__label {background-color: #d4ebff;}#sk-container-id-1 input.sk-hidden--visually {border: 0;clip: rect(1px 1px 1px 1px);clip: rect(1px, 1px, 1px, 1px);height: 1px;margin: -1px;overflow: hidden;padding: 0;position: absolute;width: 1px;}#sk-container-id-1 div.sk-estimator {font-family: monospace;background-color: #f0f8ff;border: 1px dotted black;border-radius: 0.25em;box-sizing: border-box;margin-bottom: 0.5em;}#sk-container-id-1 div.sk-estimator:hover {background-color: #d4ebff;}#sk-container-id-1 div.sk-parallel-item::after {content: \"\";width: 100%;border-bottom: 1px solid gray;flex-grow: 1;}#sk-container-id-1 div.sk-label:hover label.sk-toggleable__label {background-color: #d4ebff;}#sk-container-id-1 div.sk-serial::before {content: \"\";position: absolute;border-left: 1px solid gray;box-sizing: border-box;top: 0;bottom: 0;left: 50%;z-index: 0;}#sk-container-id-1 div.sk-serial {display: flex;flex-direction: column;align-items: center;background-color: white;padding-right: 0.2em;padding-left: 0.2em;position: relative;}#sk-container-id-1 div.sk-item {position: relative;z-index: 1;}#sk-container-id-1 div.sk-parallel {display: flex;align-items: stretch;justify-content: center;background-color: white;position: relative;}#sk-container-id-1 div.sk-item::before, #sk-container-id-1 div.sk-parallel-item::before {content: \"\";position: absolute;border-left: 1px solid gray;box-sizing: border-box;top: 0;bottom: 0;left: 50%;z-index: -1;}#sk-container-id-1 div.sk-parallel-item {display: flex;flex-direction: column;z-index: 1;position: relative;background-color: white;}#sk-container-id-1 div.sk-parallel-item:first-child::after {align-self: flex-end;width: 50%;}#sk-container-id-1 div.sk-parallel-item:last-child::after {align-self: flex-start;width: 50%;}#sk-container-id-1 div.sk-parallel-item:only-child::after {width: 0;}#sk-container-id-1 div.sk-dashed-wrapped {border: 1px dashed gray;margin: 0 0.4em 0.5em 0.4em;box-sizing: border-box;padding-bottom: 0.4em;background-color: white;}#sk-container-id-1 div.sk-label label {font-family: monospace;font-weight: bold;display: inline-block;line-height: 1.2em;}#sk-container-id-1 div.sk-label-container {text-align: center;}#sk-container-id-1 div.sk-container {/* jupyter's `normalize.less` sets `[hidden] { display: none; }` but bootstrap.min.css set `[hidden] { display: none !important; }` so we also need the `!important` here to be able to override the default hidden behavior on the sphinx rendered scikit-learn.org. See: https://github.com/scikit-learn/scikit-learn/issues/21755 */display: inline-block !important;position: relative;}#sk-container-id-1 div.sk-text-repr-fallback {display: none;}</style><div id=\"sk-container-id-1\" class=\"sk-top-container\"><div class=\"sk-text-repr-fallback\"><pre>XGBRegressor(base_score=0.5, booster=&#x27;gbtree&#x27;, callbacks=None,\n",
       "             colsample_bylevel=1, colsample_bynode=1, colsample_bytree=1,\n",
       "             early_stopping_rounds=None, enable_categorical=False,\n",
       "             eval_metric=None, gamma=0, gpu_id=-1, grow_policy=&#x27;depthwise&#x27;,\n",
       "             importance_type=None, interaction_constraints=&#x27;&#x27;,\n",
       "             learning_rate=0.300000012, max_bin=256, max_cat_to_onehot=4,\n",
       "             max_delta_step=0, max_depth=6, max_leaves=0, min_child_weight=1,\n",
       "             missing=nan, monotone_constraints=&#x27;()&#x27;, n_estimators=100, n_jobs=0,\n",
       "             num_parallel_tree=1, predictor=&#x27;auto&#x27;, random_state=0, reg_alpha=0,\n",
       "             reg_lambda=1, ...)</pre><b>In a Jupyter environment, please rerun this cell to show the HTML representation or trust the notebook. <br />On GitHub, the HTML representation is unable to render, please try loading this page with nbviewer.org.</b></div><div class=\"sk-container\" hidden><div class=\"sk-item\"><div class=\"sk-estimator sk-toggleable\"><input class=\"sk-toggleable__control sk-hidden--visually\" id=\"sk-estimator-id-1\" type=\"checkbox\" checked><label for=\"sk-estimator-id-1\" class=\"sk-toggleable__label sk-toggleable__label-arrow\">XGBRegressor</label><div class=\"sk-toggleable__content\"><pre>XGBRegressor(base_score=0.5, booster=&#x27;gbtree&#x27;, callbacks=None,\n",
       "             colsample_bylevel=1, colsample_bynode=1, colsample_bytree=1,\n",
       "             early_stopping_rounds=None, enable_categorical=False,\n",
       "             eval_metric=None, gamma=0, gpu_id=-1, grow_policy=&#x27;depthwise&#x27;,\n",
       "             importance_type=None, interaction_constraints=&#x27;&#x27;,\n",
       "             learning_rate=0.300000012, max_bin=256, max_cat_to_onehot=4,\n",
       "             max_delta_step=0, max_depth=6, max_leaves=0, min_child_weight=1,\n",
       "             missing=nan, monotone_constraints=&#x27;()&#x27;, n_estimators=100, n_jobs=0,\n",
       "             num_parallel_tree=1, predictor=&#x27;auto&#x27;, random_state=0, reg_alpha=0,\n",
       "             reg_lambda=1, ...)</pre></div></div></div></div></div>"
      ],
      "text/plain": [
       "XGBRegressor(base_score=0.5, booster='gbtree', callbacks=None,\n",
       "             colsample_bylevel=1, colsample_bynode=1, colsample_bytree=1,\n",
       "             early_stopping_rounds=None, enable_categorical=False,\n",
       "             eval_metric=None, gamma=0, gpu_id=-1, grow_policy='depthwise',\n",
       "             importance_type=None, interaction_constraints='',\n",
       "             learning_rate=0.300000012, max_bin=256, max_cat_to_onehot=4,\n",
       "             max_delta_step=0, max_depth=6, max_leaves=0, min_child_weight=1,\n",
       "             missing=nan, monotone_constraints='()', n_estimators=100, n_jobs=0,\n",
       "             num_parallel_tree=1, predictor='auto', random_state=0, reg_alpha=0,\n",
       "             reg_lambda=1, ...)"
      ]
     },
     "execution_count": 10,
     "metadata": {},
     "output_type": "execute_result"
    }
   ],
   "source": [
    "xg_classifier = xgboost.XGBRegressor()\n",
    "xg_classifier.fit(X_train, y_train)"
   ]
  },
  {
   "cell_type": "code",
   "execution_count": null,
   "metadata": {},
   "outputs": [
    {
     "ename": "",
     "evalue": "",
     "output_type": "error",
     "traceback": [
      "\u001b[1;31mnotebook controller is DISPOSED. \n",
      "\u001b[1;31mView Jupyter <a href='command:jupyter.viewOutput'>log</a> for further details."
     ]
    }
   ],
   "source": [
    "import pickle"
   ]
  },
  {
   "cell_type": "code",
   "execution_count": null,
   "metadata": {},
   "outputs": [
    {
     "ename": "",
     "evalue": "",
     "output_type": "error",
     "traceback": [
      "\u001b[1;31mnotebook controller is DISPOSED. \n",
      "\u001b[1;31mView Jupyter <a href='command:jupyter.viewOutput'>log</a> for further details."
     ]
    }
   ],
   "source": [
    "MODELS_DIR = f\"{ROOT_DIR}/models/\"\n",
    "xg_classifier_file = f\"{MODELS_DIR}xg_classifier.pkl\"\n",
    "pickle.dump(xg_classifier, open(xg_classifier_file, \"wb\"))"
   ]
  },
  {
   "cell_type": "code",
   "execution_count": 11,
   "metadata": {},
   "outputs": [],
   "source": [
    "y_pred = xg_classifier.predict(X_test)"
   ]
  },
  {
   "cell_type": "code",
   "execution_count": 12,
   "metadata": {},
   "outputs": [],
   "source": [
    "from sklearn.metrics import mean_squared_error\n",
    "from sklearn.model_selection import KFold\n",
    "from sklearn.model_selection import cross_val_score"
   ]
  },
  {
   "cell_type": "code",
   "execution_count": 18,
   "metadata": {},
   "outputs": [
    {
     "data": {
      "text/plain": [
       "471.97210848782345"
      ]
     },
     "execution_count": 18,
     "metadata": {},
     "output_type": "execute_result"
    }
   ],
   "source": [
    "mean_squared_error(y_test, y_pred)"
   ]
  },
  {
   "cell_type": "code",
   "execution_count": 13,
   "metadata": {},
   "outputs": [
    {
     "data": {
      "text/plain": [
       "894.076124917269"
      ]
     },
     "execution_count": 13,
     "metadata": {},
     "output_type": "execute_result"
    }
   ],
   "source": [
    "mean_squared_error(y_test, y_pred)"
   ]
  },
  {
   "cell_type": "code",
   "execution_count": 14,
   "metadata": {},
   "outputs": [
    {
     "data": {
      "text/plain": [
       "array([0.98714386, 0.95494821, 0.97265613, 0.97401824, 0.9851751 ,\n",
       "       0.9499872 , 0.98469922, 0.99067378, 0.98761336, 0.98922217])"
      ]
     },
     "execution_count": 14,
     "metadata": {},
     "output_type": "execute_result"
    }
   ],
   "source": [
    "kfold = KFold(n_splits=10, shuffle=True, random_state=7)\n",
    "cross_val_score(xg_classifier, X_train, y_train, cv=kfold)"
   ]
  },
  {
   "cell_type": "code",
   "execution_count": 19,
   "metadata": {},
   "outputs": [
    {
     "data": {
      "text/plain": [
       "array([0.0329346 , 0.72470693, 0.75455996, 0.70680705, 0.70812848,\n",
       "       0.71050177, 0.73185166, 0.77806023, 0.78244984, 0.74488603])"
      ]
     },
     "execution_count": 19,
     "metadata": {},
     "output_type": "execute_result"
    }
   ],
   "source": [
    "kfold = KFold(n_splits=10, shuffle=True, random_state=7)\n",
    "cross_val_score(xg_classifier, X_train, y_train, cv=kfold)"
   ]
  },
  {
   "cell_type": "code",
   "execution_count": 15,
   "metadata": {},
   "outputs": [
    {
     "data": {
      "text/html": [
       "<div>\n",
       "<style scoped>\n",
       "    .dataframe tbody tr th:only-of-type {\n",
       "        vertical-align: middle;\n",
       "    }\n",
       "\n",
       "    .dataframe tbody tr th {\n",
       "        vertical-align: top;\n",
       "    }\n",
       "\n",
       "    .dataframe thead th {\n",
       "        text-align: right;\n",
       "    }\n",
       "</style>\n",
       "<table border=\"1\" class=\"dataframe\">\n",
       "  <thead>\n",
       "    <tr style=\"text-align: right;\">\n",
       "      <th></th>\n",
       "      <th>Ticker</th>\n",
       "      <th>Fiscal Year</th>\n",
       "      <th>Revenue</th>\n",
       "      <th>Cost of Revenue</th>\n",
       "      <th>Net Income</th>\n",
       "      <th>fcf</th>\n",
       "      <th>owners_earnings</th>\n",
       "      <th>roa</th>\n",
       "      <th>roe</th>\n",
       "      <th>roc</th>\n",
       "      <th>current_ratio</th>\n",
       "      <th>quick_ratio</th>\n",
       "      <th>gross_margin</th>\n",
       "      <th>net_income_margin</th>\n",
       "      <th>fcf_margin</th>\n",
       "      <th>owners_earnings_to_net_income</th>\n",
       "      <th>rd_to_net_income</th>\n",
       "      <th>capex_to_net_income</th>\n",
       "      <th>net_income_growth_rate</th>\n",
       "      <th>next_year_revenue</th>\n",
       "    </tr>\n",
       "  </thead>\n",
       "  <tbody>\n",
       "    <tr>\n",
       "      <th>12171</th>\n",
       "      <td>MSFT</td>\n",
       "      <td>2001</td>\n",
       "      <td>252.96</td>\n",
       "      <td>-34.55</td>\n",
       "      <td>73.46</td>\n",
       "      <td>190.08</td>\n",
       "      <td>-49.12</td>\n",
       "      <td>0.12</td>\n",
       "      <td>0.16</td>\n",
       "      <td>0.20</td>\n",
       "      <td>4.24</td>\n",
       "      <td>3.81</td>\n",
       "      <td>0.86</td>\n",
       "      <td>0.29</td>\n",
       "      <td>0.75</td>\n",
       "      <td>-0.67</td>\n",
       "      <td>-0.60</td>\n",
       "      <td>0.00</td>\n",
       "      <td>12.03</td>\n",
       "      <td>283.65</td>\n",
       "    </tr>\n",
       "    <tr>\n",
       "      <th>12172</th>\n",
       "      <td>MSFT</td>\n",
       "      <td>2002</td>\n",
       "      <td>283.65</td>\n",
       "      <td>-51.91</td>\n",
       "      <td>78.29</td>\n",
       "      <td>190.81</td>\n",
       "      <td>-59.03</td>\n",
       "      <td>0.12</td>\n",
       "      <td>0.15</td>\n",
       "      <td>0.18</td>\n",
       "      <td>3.81</td>\n",
       "      <td>3.44</td>\n",
       "      <td>0.82</td>\n",
       "      <td>0.28</td>\n",
       "      <td>0.67</td>\n",
       "      <td>-0.75</td>\n",
       "      <td>-0.55</td>\n",
       "      <td>0.01</td>\n",
       "      <td>0.07</td>\n",
       "      <td>321.87</td>\n",
       "    </tr>\n",
       "    <tr>\n",
       "      <th>12173</th>\n",
       "      <td>MSFT</td>\n",
       "      <td>2003</td>\n",
       "      <td>321.87</td>\n",
       "      <td>-60.59</td>\n",
       "      <td>75.31</td>\n",
       "      <td>210.20</td>\n",
       "      <td>-74.84</td>\n",
       "      <td>0.09</td>\n",
       "      <td>0.12</td>\n",
       "      <td>0.12</td>\n",
       "      <td>4.22</td>\n",
       "      <td>3.88</td>\n",
       "      <td>0.81</td>\n",
       "      <td>0.23</td>\n",
       "      <td>0.65</td>\n",
       "      <td>-0.99</td>\n",
       "      <td>-0.88</td>\n",
       "      <td>0.01</td>\n",
       "      <td>-0.04</td>\n",
       "      <td>368.35</td>\n",
       "    </tr>\n",
       "    <tr>\n",
       "      <th>12174</th>\n",
       "      <td>MSFT</td>\n",
       "      <td>2004</td>\n",
       "      <td>368.35</td>\n",
       "      <td>-65.96</td>\n",
       "      <td>81.68</td>\n",
       "      <td>169.90</td>\n",
       "      <td>-47.60</td>\n",
       "      <td>0.09</td>\n",
       "      <td>0.11</td>\n",
       "      <td>0.10</td>\n",
       "      <td>4.71</td>\n",
       "      <td>4.44</td>\n",
       "      <td>0.82</td>\n",
       "      <td>0.22</td>\n",
       "      <td>0.46</td>\n",
       "      <td>-0.58</td>\n",
       "      <td>-0.95</td>\n",
       "      <td>-0.01</td>\n",
       "      <td>0.08</td>\n",
       "      <td>397.88</td>\n",
       "    </tr>\n",
       "    <tr>\n",
       "      <th>12175</th>\n",
       "      <td>MSFT</td>\n",
       "      <td>2005</td>\n",
       "      <td>397.88</td>\n",
       "      <td>-60.31</td>\n",
       "      <td>122.54</td>\n",
       "      <td>576.83</td>\n",
       "      <td>-415.69</td>\n",
       "      <td>0.17</td>\n",
       "      <td>0.25</td>\n",
       "      <td>0.21</td>\n",
       "      <td>2.89</td>\n",
       "      <td>2.66</td>\n",
       "      <td>0.85</td>\n",
       "      <td>0.31</td>\n",
       "      <td>1.45</td>\n",
       "      <td>-3.39</td>\n",
       "      <td>-0.50</td>\n",
       "      <td>-0.00</td>\n",
       "      <td>0.50</td>\n",
       "      <td>442.82</td>\n",
       "    </tr>\n",
       "    <tr>\n",
       "      <th>12176</th>\n",
       "      <td>MSFT</td>\n",
       "      <td>2006</td>\n",
       "      <td>442.82</td>\n",
       "      <td>-76.50</td>\n",
       "      <td>125.99</td>\n",
       "      <td>349.66</td>\n",
       "      <td>-250.89</td>\n",
       "      <td>0.18</td>\n",
       "      <td>0.31</td>\n",
       "      <td>0.24</td>\n",
       "      <td>2.18</td>\n",
       "      <td>1.94</td>\n",
       "      <td>0.83</td>\n",
       "      <td>0.28</td>\n",
       "      <td>0.79</td>\n",
       "      <td>-1.99</td>\n",
       "      <td>-0.52</td>\n",
       "      <td>-0.06</td>\n",
       "      <td>0.03</td>\n",
       "      <td>511.22</td>\n",
       "    </tr>\n",
       "    <tr>\n",
       "      <th>12177</th>\n",
       "      <td>MSFT</td>\n",
       "      <td>2007</td>\n",
       "      <td>511.22</td>\n",
       "      <td>-106.93</td>\n",
       "      <td>140.65</td>\n",
       "      <td>423.40</td>\n",
       "      <td>-308.22</td>\n",
       "      <td>0.22</td>\n",
       "      <td>0.45</td>\n",
       "      <td>0.29</td>\n",
       "      <td>1.69</td>\n",
       "      <td>1.46</td>\n",
       "      <td>0.79</td>\n",
       "      <td>0.28</td>\n",
       "      <td>0.83</td>\n",
       "      <td>-2.19</td>\n",
       "      <td>-0.51</td>\n",
       "      <td>-0.09</td>\n",
       "      <td>0.12</td>\n",
       "      <td>604.20</td>\n",
       "    </tr>\n",
       "    <tr>\n",
       "      <th>12178</th>\n",
       "      <td>MSFT</td>\n",
       "      <td>2008</td>\n",
       "      <td>604.20</td>\n",
       "      <td>-115.98</td>\n",
       "      <td>176.81</td>\n",
       "      <td>345.46</td>\n",
       "      <td>-196.32</td>\n",
       "      <td>0.24</td>\n",
       "      <td>0.49</td>\n",
       "      <td>0.31</td>\n",
       "      <td>1.45</td>\n",
       "      <td>1.25</td>\n",
       "      <td>0.81</td>\n",
       "      <td>0.29</td>\n",
       "      <td>0.57</td>\n",
       "      <td>-1.11</td>\n",
       "      <td>-0.46</td>\n",
       "      <td>-0.11</td>\n",
       "      <td>0.26</td>\n",
       "      <td>584.37</td>\n",
       "    </tr>\n",
       "    <tr>\n",
       "      <th>12179</th>\n",
       "      <td>MSFT</td>\n",
       "      <td>2009</td>\n",
       "      <td>584.37</td>\n",
       "      <td>-121.55</td>\n",
       "      <td>145.69</td>\n",
       "      <td>265.00</td>\n",
       "      <td>-184.98</td>\n",
       "      <td>0.19</td>\n",
       "      <td>0.37</td>\n",
       "      <td>0.26</td>\n",
       "      <td>1.82</td>\n",
       "      <td>1.58</td>\n",
       "      <td>0.79</td>\n",
       "      <td>0.25</td>\n",
       "      <td>0.45</td>\n",
       "      <td>-1.27</td>\n",
       "      <td>-0.62</td>\n",
       "      <td>-0.09</td>\n",
       "      <td>-0.18</td>\n",
       "      <td>624.84</td>\n",
       "    </tr>\n",
       "    <tr>\n",
       "      <th>12180</th>\n",
       "      <td>MSFT</td>\n",
       "      <td>2010</td>\n",
       "      <td>624.84</td>\n",
       "      <td>-123.95</td>\n",
       "      <td>187.60</td>\n",
       "      <td>373.64</td>\n",
       "      <td>-226.83</td>\n",
       "      <td>0.22</td>\n",
       "      <td>0.41</td>\n",
       "      <td>0.28</td>\n",
       "      <td>2.13</td>\n",
       "      <td>1.90</td>\n",
       "      <td>0.80</td>\n",
       "      <td>0.30</td>\n",
       "      <td>0.60</td>\n",
       "      <td>-1.21</td>\n",
       "      <td>-0.46</td>\n",
       "      <td>-0.01</td>\n",
       "      <td>0.29</td>\n",
       "      <td>699.43</td>\n",
       "    </tr>\n",
       "    <tr>\n",
       "      <th>12181</th>\n",
       "      <td>MSFT</td>\n",
       "      <td>2011</td>\n",
       "      <td>699.43</td>\n",
       "      <td>-155.77</td>\n",
       "      <td>231.50</td>\n",
       "      <td>353.70</td>\n",
       "      <td>-171.64</td>\n",
       "      <td>0.21</td>\n",
       "      <td>0.41</td>\n",
       "      <td>0.25</td>\n",
       "      <td>2.60</td>\n",
       "      <td>2.35</td>\n",
       "      <td>0.78</td>\n",
       "      <td>0.33</td>\n",
       "      <td>0.51</td>\n",
       "      <td>-0.74</td>\n",
       "      <td>-0.39</td>\n",
       "      <td>-0.02</td>\n",
       "      <td>0.23</td>\n",
       "      <td>737.23</td>\n",
       "    </tr>\n",
       "    <tr>\n",
       "      <th>12182</th>\n",
       "      <td>MSFT</td>\n",
       "      <td>2012</td>\n",
       "      <td>737.23</td>\n",
       "      <td>-175.30</td>\n",
       "      <td>169.78</td>\n",
       "      <td>410.34</td>\n",
       "      <td>-259.51</td>\n",
       "      <td>0.14</td>\n",
       "      <td>0.26</td>\n",
       "      <td>0.23</td>\n",
       "      <td>2.60</td>\n",
       "      <td>2.41</td>\n",
       "      <td>0.76</td>\n",
       "      <td>0.23</td>\n",
       "      <td>0.56</td>\n",
       "      <td>-1.53</td>\n",
       "      <td>-0.58</td>\n",
       "      <td>-0.01</td>\n",
       "      <td>-0.27</td>\n",
       "      <td>778.49</td>\n",
       "    </tr>\n",
       "    <tr>\n",
       "      <th>12183</th>\n",
       "      <td>MSFT</td>\n",
       "      <td>2013</td>\n",
       "      <td>778.49</td>\n",
       "      <td>-203.85</td>\n",
       "      <td>218.63</td>\n",
       "      <td>369.81</td>\n",
       "      <td>-295.81</td>\n",
       "      <td>0.15</td>\n",
       "      <td>0.28</td>\n",
       "      <td>0.19</td>\n",
       "      <td>2.71</td>\n",
       "      <td>2.53</td>\n",
       "      <td>0.74</td>\n",
       "      <td>0.28</td>\n",
       "      <td>0.48</td>\n",
       "      <td>-1.35</td>\n",
       "      <td>-0.48</td>\n",
       "      <td>-0.08</td>\n",
       "      <td>0.29</td>\n",
       "      <td>868.33</td>\n",
       "    </tr>\n",
       "    <tr>\n",
       "      <th>12184</th>\n",
       "      <td>MSFT</td>\n",
       "      <td>2014</td>\n",
       "      <td>868.33</td>\n",
       "      <td>-270.78</td>\n",
       "      <td>220.74</td>\n",
       "      <td>411.67</td>\n",
       "      <td>-277.06</td>\n",
       "      <td>0.13</td>\n",
       "      <td>0.25</td>\n",
       "      <td>0.16</td>\n",
       "      <td>2.50</td>\n",
       "      <td>2.31</td>\n",
       "      <td>0.69</td>\n",
       "      <td>0.25</td>\n",
       "      <td>0.47</td>\n",
       "      <td>-1.26</td>\n",
       "      <td>-0.52</td>\n",
       "      <td>-0.14</td>\n",
       "      <td>0.01</td>\n",
       "      <td>935.80</td>\n",
       "    </tr>\n",
       "    <tr>\n",
       "      <th>12185</th>\n",
       "      <td>MSFT</td>\n",
       "      <td>2015</td>\n",
       "      <td>935.80</td>\n",
       "      <td>-330.38</td>\n",
       "      <td>121.93</td>\n",
       "      <td>393.36</td>\n",
       "      <td>-408.82</td>\n",
       "      <td>0.07</td>\n",
       "      <td>0.15</td>\n",
       "      <td>0.16</td>\n",
       "      <td>2.47</td>\n",
       "      <td>2.30</td>\n",
       "      <td>0.65</td>\n",
       "      <td>0.13</td>\n",
       "      <td>0.42</td>\n",
       "      <td>-3.35</td>\n",
       "      <td>-0.99</td>\n",
       "      <td>-0.14</td>\n",
       "      <td>-0.45</td>\n",
       "      <td>911.54</td>\n",
       "    </tr>\n",
       "    <tr>\n",
       "      <th>12186</th>\n",
       "      <td>MSFT</td>\n",
       "      <td>2016</td>\n",
       "      <td>911.54</td>\n",
       "      <td>-327.80</td>\n",
       "      <td>205.39</td>\n",
       "      <td>417.18</td>\n",
       "      <td>101.91</td>\n",
       "      <td>0.11</td>\n",
       "      <td>0.29</td>\n",
       "      <td>0.14</td>\n",
       "      <td>2.35</td>\n",
       "      <td>2.22</td>\n",
       "      <td>0.64</td>\n",
       "      <td>0.23</td>\n",
       "      <td>0.46</td>\n",
       "      <td>0.50</td>\n",
       "      <td>-0.58</td>\n",
       "      <td>-0.18</td>\n",
       "      <td>0.68</td>\n",
       "      <td>965.71</td>\n",
       "    </tr>\n",
       "    <tr>\n",
       "      <th>12187</th>\n",
       "      <td>MSFT</td>\n",
       "      <td>2017</td>\n",
       "      <td>965.71</td>\n",
       "      <td>-342.61</td>\n",
       "      <td>254.89</td>\n",
       "      <td>310.99</td>\n",
       "      <td>349.53</td>\n",
       "      <td>0.10</td>\n",
       "      <td>0.29</td>\n",
       "      <td>0.12</td>\n",
       "      <td>2.92</td>\n",
       "      <td>2.79</td>\n",
       "      <td>0.65</td>\n",
       "      <td>0.26</td>\n",
       "      <td>0.32</td>\n",
       "      <td>1.37</td>\n",
       "      <td>-0.51</td>\n",
       "      <td>-0.21</td>\n",
       "      <td>0.24</td>\n",
       "      <td>1103.60</td>\n",
       "    </tr>\n",
       "    <tr>\n",
       "      <th>12188</th>\n",
       "      <td>MSFT</td>\n",
       "      <td>2018</td>\n",
       "      <td>1103.60</td>\n",
       "      <td>-383.53</td>\n",
       "      <td>165.71</td>\n",
       "      <td>774.74</td>\n",
       "      <td>-24.74</td>\n",
       "      <td>0.06</td>\n",
       "      <td>0.20</td>\n",
       "      <td>0.14</td>\n",
       "      <td>2.90</td>\n",
       "      <td>2.74</td>\n",
       "      <td>0.65</td>\n",
       "      <td>0.15</td>\n",
       "      <td>0.70</td>\n",
       "      <td>-0.15</td>\n",
       "      <td>-0.89</td>\n",
       "      <td>-0.35</td>\n",
       "      <td>-0.35</td>\n",
       "      <td>1258.43</td>\n",
       "    </tr>\n",
       "    <tr>\n",
       "      <th>12189</th>\n",
       "      <td>MSFT</td>\n",
       "      <td>2019</td>\n",
       "      <td>1258.43</td>\n",
       "      <td>-429.10</td>\n",
       "      <td>392.40</td>\n",
       "      <td>890.72</td>\n",
       "      <td>17.57</td>\n",
       "      <td>0.14</td>\n",
       "      <td>0.38</td>\n",
       "      <td>0.15</td>\n",
       "      <td>2.53</td>\n",
       "      <td>2.35</td>\n",
       "      <td>0.66</td>\n",
       "      <td>0.31</td>\n",
       "      <td>0.71</td>\n",
       "      <td>0.04</td>\n",
       "      <td>-0.43</td>\n",
       "      <td>-0.18</td>\n",
       "      <td>1.37</td>\n",
       "      <td>1430.15</td>\n",
       "    </tr>\n",
       "    <tr>\n",
       "      <th>12190</th>\n",
       "      <td>MSFT</td>\n",
       "      <td>2020</td>\n",
       "      <td>1430.15</td>\n",
       "      <td>-460.78</td>\n",
       "      <td>442.81</td>\n",
       "      <td>1067.06</td>\n",
       "      <td>-54.45</td>\n",
       "      <td>0.15</td>\n",
       "      <td>0.37</td>\n",
       "      <td>0.18</td>\n",
       "      <td>2.52</td>\n",
       "      <td>2.33</td>\n",
       "      <td>0.68</td>\n",
       "      <td>0.31</td>\n",
       "      <td>0.75</td>\n",
       "      <td>-0.12</td>\n",
       "      <td>-0.44</td>\n",
       "      <td>-0.17</td>\n",
       "      <td>0.13</td>\n",
       "      <td>NaN</td>\n",
       "    </tr>\n",
       "  </tbody>\n",
       "</table>\n",
       "</div>"
      ],
      "text/plain": [
       "      Ticker  Fiscal Year  Revenue  Cost of Revenue  Net Income      fcf  \\\n",
       "12171   MSFT         2001   252.96           -34.55       73.46   190.08   \n",
       "12172   MSFT         2002   283.65           -51.91       78.29   190.81   \n",
       "12173   MSFT         2003   321.87           -60.59       75.31   210.20   \n",
       "12174   MSFT         2004   368.35           -65.96       81.68   169.90   \n",
       "12175   MSFT         2005   397.88           -60.31      122.54   576.83   \n",
       "12176   MSFT         2006   442.82           -76.50      125.99   349.66   \n",
       "12177   MSFT         2007   511.22          -106.93      140.65   423.40   \n",
       "12178   MSFT         2008   604.20          -115.98      176.81   345.46   \n",
       "12179   MSFT         2009   584.37          -121.55      145.69   265.00   \n",
       "12180   MSFT         2010   624.84          -123.95      187.60   373.64   \n",
       "12181   MSFT         2011   699.43          -155.77      231.50   353.70   \n",
       "12182   MSFT         2012   737.23          -175.30      169.78   410.34   \n",
       "12183   MSFT         2013   778.49          -203.85      218.63   369.81   \n",
       "12184   MSFT         2014   868.33          -270.78      220.74   411.67   \n",
       "12185   MSFT         2015   935.80          -330.38      121.93   393.36   \n",
       "12186   MSFT         2016   911.54          -327.80      205.39   417.18   \n",
       "12187   MSFT         2017   965.71          -342.61      254.89   310.99   \n",
       "12188   MSFT         2018  1103.60          -383.53      165.71   774.74   \n",
       "12189   MSFT         2019  1258.43          -429.10      392.40   890.72   \n",
       "12190   MSFT         2020  1430.15          -460.78      442.81  1067.06   \n",
       "\n",
       "       owners_earnings   roa   roe   roc  current_ratio  quick_ratio  \\\n",
       "12171           -49.12  0.12  0.16  0.20           4.24         3.81   \n",
       "12172           -59.03  0.12  0.15  0.18           3.81         3.44   \n",
       "12173           -74.84  0.09  0.12  0.12           4.22         3.88   \n",
       "12174           -47.60  0.09  0.11  0.10           4.71         4.44   \n",
       "12175          -415.69  0.17  0.25  0.21           2.89         2.66   \n",
       "12176          -250.89  0.18  0.31  0.24           2.18         1.94   \n",
       "12177          -308.22  0.22  0.45  0.29           1.69         1.46   \n",
       "12178          -196.32  0.24  0.49  0.31           1.45         1.25   \n",
       "12179          -184.98  0.19  0.37  0.26           1.82         1.58   \n",
       "12180          -226.83  0.22  0.41  0.28           2.13         1.90   \n",
       "12181          -171.64  0.21  0.41  0.25           2.60         2.35   \n",
       "12182          -259.51  0.14  0.26  0.23           2.60         2.41   \n",
       "12183          -295.81  0.15  0.28  0.19           2.71         2.53   \n",
       "12184          -277.06  0.13  0.25  0.16           2.50         2.31   \n",
       "12185          -408.82  0.07  0.15  0.16           2.47         2.30   \n",
       "12186           101.91  0.11  0.29  0.14           2.35         2.22   \n",
       "12187           349.53  0.10  0.29  0.12           2.92         2.79   \n",
       "12188           -24.74  0.06  0.20  0.14           2.90         2.74   \n",
       "12189            17.57  0.14  0.38  0.15           2.53         2.35   \n",
       "12190           -54.45  0.15  0.37  0.18           2.52         2.33   \n",
       "\n",
       "       gross_margin  net_income_margin  fcf_margin  \\\n",
       "12171          0.86               0.29        0.75   \n",
       "12172          0.82               0.28        0.67   \n",
       "12173          0.81               0.23        0.65   \n",
       "12174          0.82               0.22        0.46   \n",
       "12175          0.85               0.31        1.45   \n",
       "12176          0.83               0.28        0.79   \n",
       "12177          0.79               0.28        0.83   \n",
       "12178          0.81               0.29        0.57   \n",
       "12179          0.79               0.25        0.45   \n",
       "12180          0.80               0.30        0.60   \n",
       "12181          0.78               0.33        0.51   \n",
       "12182          0.76               0.23        0.56   \n",
       "12183          0.74               0.28        0.48   \n",
       "12184          0.69               0.25        0.47   \n",
       "12185          0.65               0.13        0.42   \n",
       "12186          0.64               0.23        0.46   \n",
       "12187          0.65               0.26        0.32   \n",
       "12188          0.65               0.15        0.70   \n",
       "12189          0.66               0.31        0.71   \n",
       "12190          0.68               0.31        0.75   \n",
       "\n",
       "       owners_earnings_to_net_income  rd_to_net_income  capex_to_net_income  \\\n",
       "12171                          -0.67             -0.60                 0.00   \n",
       "12172                          -0.75             -0.55                 0.01   \n",
       "12173                          -0.99             -0.88                 0.01   \n",
       "12174                          -0.58             -0.95                -0.01   \n",
       "12175                          -3.39             -0.50                -0.00   \n",
       "12176                          -1.99             -0.52                -0.06   \n",
       "12177                          -2.19             -0.51                -0.09   \n",
       "12178                          -1.11             -0.46                -0.11   \n",
       "12179                          -1.27             -0.62                -0.09   \n",
       "12180                          -1.21             -0.46                -0.01   \n",
       "12181                          -0.74             -0.39                -0.02   \n",
       "12182                          -1.53             -0.58                -0.01   \n",
       "12183                          -1.35             -0.48                -0.08   \n",
       "12184                          -1.26             -0.52                -0.14   \n",
       "12185                          -3.35             -0.99                -0.14   \n",
       "12186                           0.50             -0.58                -0.18   \n",
       "12187                           1.37             -0.51                -0.21   \n",
       "12188                          -0.15             -0.89                -0.35   \n",
       "12189                           0.04             -0.43                -0.18   \n",
       "12190                          -0.12             -0.44                -0.17   \n",
       "\n",
       "       net_income_growth_rate  next_year_revenue  \n",
       "12171                   12.03             283.65  \n",
       "12172                    0.07             321.87  \n",
       "12173                   -0.04             368.35  \n",
       "12174                    0.08             397.88  \n",
       "12175                    0.50             442.82  \n",
       "12176                    0.03             511.22  \n",
       "12177                    0.12             604.20  \n",
       "12178                    0.26             584.37  \n",
       "12179                   -0.18             624.84  \n",
       "12180                    0.29             699.43  \n",
       "12181                    0.23             737.23  \n",
       "12182                   -0.27             778.49  \n",
       "12183                    0.29             868.33  \n",
       "12184                    0.01             935.80  \n",
       "12185                   -0.45             911.54  \n",
       "12186                    0.68             965.71  \n",
       "12187                    0.24            1103.60  \n",
       "12188                   -0.35            1258.43  \n",
       "12189                    1.37            1430.15  \n",
       "12190                    0.13                NaN  "
      ]
     },
     "execution_count": 15,
     "metadata": {},
     "output_type": "execute_result"
    }
   ],
   "source": [
    "msft_df = df[df[\"Ticker\"] == \"MSFT\"]\n",
    "msft_df"
   ]
  },
  {
   "cell_type": "code",
   "execution_count": 16,
   "metadata": {},
   "outputs": [
    {
     "data": {
      "text/html": [
       "<div>\n",
       "<style scoped>\n",
       "    .dataframe tbody tr th:only-of-type {\n",
       "        vertical-align: middle;\n",
       "    }\n",
       "\n",
       "    .dataframe tbody tr th {\n",
       "        vertical-align: top;\n",
       "    }\n",
       "\n",
       "    .dataframe thead th {\n",
       "        text-align: right;\n",
       "    }\n",
       "</style>\n",
       "<table border=\"1\" class=\"dataframe\">\n",
       "  <thead>\n",
       "    <tr style=\"text-align: right;\">\n",
       "      <th></th>\n",
       "      <th>Revenue</th>\n",
       "      <th>Cost of Revenue</th>\n",
       "      <th>Net Income</th>\n",
       "      <th>fcf</th>\n",
       "      <th>owners_earnings</th>\n",
       "      <th>roa</th>\n",
       "      <th>roe</th>\n",
       "      <th>roc</th>\n",
       "      <th>current_ratio</th>\n",
       "      <th>quick_ratio</th>\n",
       "      <th>gross_margin</th>\n",
       "      <th>net_income_margin</th>\n",
       "      <th>fcf_margin</th>\n",
       "      <th>owners_earnings_to_net_income</th>\n",
       "      <th>rd_to_net_income</th>\n",
       "      <th>capex_to_net_income</th>\n",
       "      <th>net_income_growth_rate</th>\n",
       "    </tr>\n",
       "  </thead>\n",
       "  <tbody>\n",
       "    <tr>\n",
       "      <th>12189</th>\n",
       "      <td>1258.43</td>\n",
       "      <td>-429.1</td>\n",
       "      <td>392.4</td>\n",
       "      <td>890.72</td>\n",
       "      <td>17.57</td>\n",
       "      <td>0.14</td>\n",
       "      <td>0.38</td>\n",
       "      <td>0.15</td>\n",
       "      <td>2.53</td>\n",
       "      <td>2.35</td>\n",
       "      <td>0.66</td>\n",
       "      <td>0.31</td>\n",
       "      <td>0.71</td>\n",
       "      <td>0.04</td>\n",
       "      <td>-0.43</td>\n",
       "      <td>-0.18</td>\n",
       "      <td>1.37</td>\n",
       "    </tr>\n",
       "  </tbody>\n",
       "</table>\n",
       "</div>"
      ],
      "text/plain": [
       "       Revenue  Cost of Revenue  Net Income     fcf  owners_earnings   roa  \\\n",
       "12189  1258.43           -429.1       392.4  890.72            17.57  0.14   \n",
       "\n",
       "        roe   roc  current_ratio  quick_ratio  gross_margin  \\\n",
       "12189  0.38  0.15           2.53         2.35          0.66   \n",
       "\n",
       "       net_income_margin  fcf_margin  owners_earnings_to_net_income  \\\n",
       "12189               0.31        0.71                           0.04   \n",
       "\n",
       "       rd_to_net_income  capex_to_net_income  net_income_growth_rate  \n",
       "12189             -0.43                -0.18                    1.37  "
      ]
     },
     "execution_count": 16,
     "metadata": {},
     "output_type": "execute_result"
    }
   ],
   "source": [
    "to_pred = msft_df[msft_df[\"Fiscal Year\"] == 2019].drop(columns=[\"Fiscal Year\", \"Ticker\"])\n",
    "next_year_revenue = to_pred.pop(\"next_year_revenue\")\n",
    "to_pred"
   ]
  },
  {
   "cell_type": "code",
   "execution_count": 17,
   "metadata": {},
   "outputs": [
    {
     "data": {
      "text/plain": [
       "12189    1430.15\n",
       "Name: next_year_revenue, dtype: float64"
      ]
     },
     "execution_count": 17,
     "metadata": {},
     "output_type": "execute_result"
    }
   ],
   "source": [
    "next_year_revenue"
   ]
  },
  {
   "cell_type": "code",
   "execution_count": 22,
   "metadata": {},
   "outputs": [
    {
     "data": {
      "text/plain": [
       "12189    442.81\n",
       "Name: next_year_net_income, dtype: float64"
      ]
     },
     "execution_count": 22,
     "metadata": {},
     "output_type": "execute_result"
    }
   ],
   "source": [
    "next_year_revenue"
   ]
  },
  {
   "cell_type": "code",
   "execution_count": 18,
   "metadata": {},
   "outputs": [],
   "source": [
    "pr = xg_classifier.predict(to_pred)"
   ]
  },
  {
   "cell_type": "code",
   "execution_count": 19,
   "metadata": {},
   "outputs": [
    {
     "data": {
      "text/plain": [
       "array([1259.0944], dtype=float32)"
      ]
     },
     "execution_count": 19,
     "metadata": {},
     "output_type": "execute_result"
    }
   ],
   "source": [
    "pr"
   ]
  },
  {
   "cell_type": "code",
   "execution_count": 24,
   "metadata": {},
   "outputs": [
    {
     "data": {
      "text/plain": [
       "array([353.56732], dtype=float32)"
      ]
     },
     "execution_count": 24,
     "metadata": {},
     "output_type": "execute_result"
    }
   ],
   "source": [
    "pr"
   ]
  }
 ],
 "metadata": {
  "kernelspec": {
   "display_name": "Python 3.10.6 ('epvenv': venv)",
   "language": "python",
   "name": "python3"
  },
  "language_info": {
   "codemirror_mode": {
    "name": "ipython",
    "version": 3
   },
   "file_extension": ".py",
   "mimetype": "text/x-python",
   "name": "python",
   "nbconvert_exporter": "python",
   "pygments_lexer": "ipython3",
   "version": "3.10.6"
  },
  "orig_nbformat": 4,
  "vscode": {
   "interpreter": {
    "hash": "61baa58235bc2596215c3c5ad03e1f1783ac24d24c4b46f6b83a3feed8c6de13"
   }
  }
 },
 "nbformat": 4,
 "nbformat_minor": 2
}
