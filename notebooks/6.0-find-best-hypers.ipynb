{
 "cells": [
  {
   "cell_type": "code",
   "execution_count": null,
   "metadata": {},
   "outputs": [],
   "source": []
  },
  {
   "cell_type": "markdown",
   "metadata": {},
   "source": [
    "for model in models:\n",
    "    model.get_params()\n",
    "    new_values_params = RandomizedSearchCV # to test multiples values for the parameters\n",
    "    model.set_params(**new_values_params)\n",
    "    # Test the model with the new params to find the best one. Once found keep the values.\n",
    "    search.best_params_\n",
    "\n",
    "# Once we have all the best parameters for each every model we redo tests and compare them between them"
   ]
  }
 ],
 "metadata": {
  "kernelspec": {
   "display_name": "Python 3.10.6 ('epvenv': venv)",
   "language": "python",
   "name": "python3"
  },
  "language_info": {
   "name": "python",
   "version": "3.10.6"
  },
  "orig_nbformat": 4,
  "vscode": {
   "interpreter": {
    "hash": "61baa58235bc2596215c3c5ad03e1f1783ac24d24c4b46f6b83a3feed8c6de13"
   }
  }
 },
 "nbformat": 4,
 "nbformat_minor": 2
}
